{
 "cells": [
  {
   "cell_type": "code",
   "execution_count": 12,
   "metadata": {},
   "outputs": [],
   "source": [
    "import pandas as pd\n",
    "import seaborn as sns\n",
    "import requests as req\n",
    "import json\n",
    "from scipy.stats import variation\n",
    "from ipyleaflet import Map, basemaps, basemap_to_tiles, Circle\n",
    "import matplotlib.pyplot as plt\n",
    "from sklearn.utils import resample\n",
    "%matplotlib inline"
   ]
  },
  {
   "cell_type": "code",
   "execution_count": 13,
   "metadata": {},
   "outputs": [],
   "source": [
    "# getting tacks for page 0 and first 100 entries \n",
    "dat = req.get('https://envirocar.org/api/stable/tracks', params={'page': 4}).json()['tracks']"
   ]
  },
  {
   "cell_type": "code",
   "execution_count": 14,
   "metadata": {},
   "outputs": [],
   "source": [
    "# getting the ids\n",
    "ids = [_['id'] for _ in dat]"
   ]
  },
  {
   "cell_type": "code",
   "execution_count": 16,
   "metadata": {},
   "outputs": [
    {
     "data": {
      "text/html": [
       "<div>\n",
       "<style scoped>\n",
       "    .dataframe tbody tr th:only-of-type {\n",
       "        vertical-align: middle;\n",
       "    }\n",
       "\n",
       "    .dataframe tbody tr th {\n",
       "        vertical-align: top;\n",
       "    }\n",
       "\n",
       "    .dataframe thead th {\n",
       "        text-align: right;\n",
       "    }\n",
       "</style>\n",
       "<table border=\"1\" class=\"dataframe\">\n",
       "  <thead>\n",
       "    <tr style=\"text-align: right;\">\n",
       "      <th></th>\n",
       "      <th>id</th>\n",
       "      <th>CO2(kg/h)</th>\n",
       "      <th>GPS Altitude(m)</th>\n",
       "      <th>GPS HDOP(precision)</th>\n",
       "      <th>GPS Bearing(deg)</th>\n",
       "      <th>Consumption(l/h)</th>\n",
       "      <th>MAF(l/s)</th>\n",
       "      <th>Speed(km/h)</th>\n",
       "      <th>GPS Speed(km/h)</th>\n",
       "      <th>Rpm(u/min)</th>\n",
       "      <th>Throttle Position(%)</th>\n",
       "      <th>GPS VDOP(precision)</th>\n",
       "      <th>GPS Accuracy(%)</th>\n",
       "      <th>GPS PDOP(precision)</th>\n",
       "      <th>Intake Temperature(c)</th>\n",
       "      <th>Engine Load(%)</th>\n",
       "      <th>longitude</th>\n",
       "      <th>latitude</th>\n",
       "      <th>time</th>\n",
       "    </tr>\n",
       "  </thead>\n",
       "  <tbody>\n",
       "    <tr>\n",
       "      <th>0</th>\n",
       "      <td>5c14983044ea850302b128d8</td>\n",
       "      <td></td>\n",
       "      <td>126.456921</td>\n",
       "      <td>1.6</td>\n",
       "      <td>2.282451</td>\n",
       "      <td></td>\n",
       "      <td></td>\n",
       "      <td>30.0</td>\n",
       "      <td>30.486065</td>\n",
       "      <td>1444.0</td>\n",
       "      <td>16.0</td>\n",
       "      <td>2.2</td>\n",
       "      <td>3.0</td>\n",
       "      <td>2.7</td>\n",
       "      <td></td>\n",
       "      <td>23.921567916870117</td>\n",
       "      <td>7.212854</td>\n",
       "      <td>51.504330</td>\n",
       "      <td>2018-12-15T04:25:45Z</td>\n",
       "    </tr>\n",
       "    <tr>\n",
       "      <th>1</th>\n",
       "      <td>5c14983044ea850302b128da</td>\n",
       "      <td></td>\n",
       "      <td>126.320146</td>\n",
       "      <td>1.1</td>\n",
       "      <td>357.988800</td>\n",
       "      <td></td>\n",
       "      <td></td>\n",
       "      <td>30.0</td>\n",
       "      <td>30.715256</td>\n",
       "      <td>1453.0</td>\n",
       "      <td></td>\n",
       "      <td>1.4</td>\n",
       "      <td>3.0</td>\n",
       "      <td>1.8</td>\n",
       "      <td>44.0</td>\n",
       "      <td></td>\n",
       "      <td>7.212846</td>\n",
       "      <td>51.504483</td>\n",
       "      <td>2018-12-15T04:25:47Z</td>\n",
       "    </tr>\n",
       "    <tr>\n",
       "      <th>2</th>\n",
       "      <td>5c14983044ea850302b128db</td>\n",
       "      <td>4.4341321338318656</td>\n",
       "      <td>126.184402</td>\n",
       "      <td>1.4</td>\n",
       "      <td>358.158539</td>\n",
       "      <td>1.8868647378007937</td>\n",
       "      <td>5.739999771118164</td>\n",
       "      <td>30.0</td>\n",
       "      <td>30.743151</td>\n",
       "      <td></td>\n",
       "      <td>17.0</td>\n",
       "      <td>2.4</td>\n",
       "      <td>3.0</td>\n",
       "      <td>2.8</td>\n",
       "      <td>44.0</td>\n",
       "      <td></td>\n",
       "      <td>7.212831</td>\n",
       "      <td>51.504639</td>\n",
       "      <td>2018-12-15T04:25:49Z</td>\n",
       "    </tr>\n",
       "    <tr>\n",
       "      <th>3</th>\n",
       "      <td>5c14983044ea850302b128dc</td>\n",
       "      <td></td>\n",
       "      <td>126.161344</td>\n",
       "      <td>0.9</td>\n",
       "      <td>355.355194</td>\n",
       "      <td></td>\n",
       "      <td></td>\n",
       "      <td>30.0</td>\n",
       "      <td>30.998093</td>\n",
       "      <td>1485.0</td>\n",
       "      <td></td>\n",
       "      <td>1.4</td>\n",
       "      <td>3.0</td>\n",
       "      <td>1.6</td>\n",
       "      <td></td>\n",
       "      <td>26.66666603088379</td>\n",
       "      <td>7.212823</td>\n",
       "      <td>51.504719</td>\n",
       "      <td>2018-12-15T04:25:50Z</td>\n",
       "    </tr>\n",
       "    <tr>\n",
       "      <th>4</th>\n",
       "      <td>5c14983044ea850302b128dd</td>\n",
       "      <td></td>\n",
       "      <td>126.096456</td>\n",
       "      <td>0.9</td>\n",
       "      <td>350.870148</td>\n",
       "      <td></td>\n",
       "      <td></td>\n",
       "      <td>31.0</td>\n",
       "      <td>31.599148</td>\n",
       "      <td>1503.0</td>\n",
       "      <td></td>\n",
       "      <td>1.4</td>\n",
       "      <td>3.0</td>\n",
       "      <td>1.6</td>\n",
       "      <td>44.0</td>\n",
       "      <td></td>\n",
       "      <td>7.212780</td>\n",
       "      <td>51.504881</td>\n",
       "      <td>2018-12-15T04:25:52Z</td>\n",
       "    </tr>\n",
       "  </tbody>\n",
       "</table>\n",
       "</div>"
      ],
      "text/plain": [
       "                         id            CO2(kg/h)   GPS Altitude(m)  \\\n",
       "0  5c14983044ea850302b128d8                             126.456921   \n",
       "1  5c14983044ea850302b128da                             126.320146   \n",
       "2  5c14983044ea850302b128db   4.4341321338318656        126.184402   \n",
       "3  5c14983044ea850302b128dc                             126.161344   \n",
       "4  5c14983044ea850302b128dd                             126.096456   \n",
       "\n",
       "   GPS HDOP(precision)   GPS Bearing(deg)     Consumption(l/h)  \\\n",
       "0                  1.6           2.282451                        \n",
       "1                  1.1         357.988800                        \n",
       "2                  1.4         358.158539   1.8868647378007937   \n",
       "3                  0.9         355.355194                        \n",
       "4                  0.9         350.870148                        \n",
       "\n",
       "             MAF(l/s)   Speed(km/h)   GPS Speed(km/h)  Rpm(u/min)  \\\n",
       "0                              30.0         30.486065      1444.0   \n",
       "1                              30.0         30.715256      1453.0   \n",
       "2   5.739999771118164          30.0         30.743151               \n",
       "3                              30.0         30.998093      1485.0   \n",
       "4                              31.0         31.599148      1503.0   \n",
       "\n",
       "   Throttle Position(%)  GPS VDOP(precision)   GPS Accuracy(%)  \\\n",
       "0                  16.0                  2.2               3.0   \n",
       "1                                        1.4               3.0   \n",
       "2                  17.0                  2.4               3.0   \n",
       "3                                        1.4               3.0   \n",
       "4                                        1.4               3.0   \n",
       "\n",
       "   GPS PDOP(precision)  Intake Temperature(c)       Engine Load(%)  \\\n",
       "0                  2.7                          23.921567916870117   \n",
       "1                  1.8                   44.0                        \n",
       "2                  2.8                   44.0                        \n",
       "3                  1.6                           26.66666603088379   \n",
       "4                  1.6                   44.0                        \n",
       "\n",
       "    longitude   latitude                   time  \n",
       "0    7.212854  51.504330   2018-12-15T04:25:45Z  \n",
       "1    7.212846  51.504483   2018-12-15T04:25:47Z  \n",
       "2    7.212831  51.504639   2018-12-15T04:25:49Z  \n",
       "3    7.212823  51.504719   2018-12-15T04:25:50Z  \n",
       "4    7.212780  51.504881   2018-12-15T04:25:52Z  "
      ]
     },
     "execution_count": 16,
     "metadata": {},
     "output_type": "execute_result"
    }
   ],
   "source": [
    "# first track data\n",
    "data = pd.read_csv(f'https://envirocar.org/api/stable/tracks/{ids[0]}.csv', sep=';', engine='python')\n",
    "data.head()"
   ]
  },
  {
   "cell_type": "markdown",
   "metadata": {},
   "source": [
    "\n",
    "### Processing of Empty values"
   ]
  },
  {
   "cell_type": "code",
   "execution_count": 17,
   "metadata": {
    "scrolled": true
   },
   "outputs": [
    {
     "name": "stderr",
     "output_type": "stream",
     "text": [
      "/home/bliss/.local/lib/python3.6/site-packages/pandas/core/frame.py:6692: FutureWarning: Sorting because non-concatenation axis is not aligned. A future version\n",
      "of pandas will change to not sort by default.\n",
      "\n",
      "To accept the future behavior, pass 'sort=False'.\n",
      "\n",
      "To retain the current behavior and silence the warning, pass 'sort=True'.\n",
      "\n",
      "  sort=sort)\n"
     ]
    }
   ],
   "source": [
    "single_track = pd.read_csv(f'https://envirocar.org/api/stable/tracks/{ids[0]}.csv', sep=';', engine='python')\n",
    "data = single_track.copy()\n",
    "# requesting data for each track\n",
    "\n",
    "for _ in ids[1:10]:    \n",
    "    data = data.append(pd.read_csv(f'https://envirocar.org/api/stable/tracks/{_}.csv', sep=';', engine='python'))"
   ]
  },
  {
   "cell_type": "markdown",
   "metadata": {},
   "source": [
    "### Analysis"
   ]
  },
  {
   "cell_type": "code",
   "execution_count": 83,
   "metadata": {},
   "outputs": [
    {
     "data": {
      "text/plain": [
       "<matplotlib.axes._subplots.AxesSubplot at 0x2637e81df28>"
      ]
     },
     "execution_count": 83,
     "metadata": {},
     "output_type": "execute_result"
    },
    {
     "data": {
      "image/png": "[encoded data removed]",
      "text/plain": [
       "<matplotlib.figure.Figure at 0x2637e81dbe0>"
      ]
     },
     "metadata": {},
     "output_type": "display_data"
    }
   ],
   "source": [
    "# identifying correlation between properties\n",
    "fig, ax = plt.subplots(figsize=(20,10)) \n",
    "sns.heatmap(data.corr(), linewidths=1, annot=True, ax=ax)"
   ]
  },
  {
   "cell_type": "code",
   "execution_count": 88,
   "metadata": {},
   "outputs": [
    {
     "data": {
      "text/plain": [
       " GPS Altitude(m)        27.292268\n",
       " GPS Bearing(deg)    11876.442558\n",
       " Speed(km/h)            53.939235\n",
       " GPS Speed(km/h)        69.702756\n",
       " GPS Accuracy(%)         3.366600\n",
       " longitude               0.000003\n",
       " latitude                0.000027\n",
       "dtype: float64"
      ]
     },
     "execution_count": 88,
     "metadata": {},
     "output_type": "execute_result"
    }
   ],
   "source": [
    "# variance \n",
    "single_track.var()"
   ]
  },
  {
   "cell_type": "markdown",
   "metadata": {},
   "source": []
  },
  {
   "cell_type": "code",
   "execution_count": 90,
   "metadata": {},
   "outputs": [
    {
     "data": {
      "text/html": [
       "<div>\n",
       "<style>\n",
       "    .dataframe thead tr:only-child th {\n",
       "        text-align: right;\n",
       "    }\n",
       "\n",
       "    .dataframe thead th {\n",
       "        text-align: left;\n",
       "    }\n",
       "\n",
       "    .dataframe tbody tr th {\n",
       "        vertical-align: top;\n",
       "    }\n",
       "</style>\n",
       "<table border=\"1\" class=\"dataframe\">\n",
       "  <thead>\n",
       "    <tr style=\"text-align: right;\">\n",
       "      <th></th>\n",
       "      <th>id</th>\n",
       "      <th>CO2(kg/h)</th>\n",
       "      <th>GPS HDOP(precision)</th>\n",
       "      <th>GPS Altitude(m)</th>\n",
       "      <th>GPS Bearing(deg)</th>\n",
       "      <th>MAF(l/s)</th>\n",
       "      <th>Consumption(l/h)</th>\n",
       "      <th>Speed(km/h)</th>\n",
       "      <th>GPS Speed(km/h)</th>\n",
       "      <th>Rpm(u/min)</th>\n",
       "      <th>Throttle Position(%)</th>\n",
       "      <th>GPS VDOP(precision)</th>\n",
       "      <th>GPS Accuracy(%)</th>\n",
       "      <th>GPS PDOP(precision)</th>\n",
       "      <th>Intake Temperature(c)</th>\n",
       "      <th>Engine Load(%)</th>\n",
       "      <th>longitude</th>\n",
       "      <th>latitude</th>\n",
       "      <th>time</th>\n",
       "    </tr>\n",
       "  </thead>\n",
       "  <tbody>\n",
       "    <tr>\n",
       "      <th>0</th>\n",
       "      <td>5c14981c44ea850302b127ff</td>\n",
       "      <td></td>\n",
       "      <td>1.1</td>\n",
       "      <td>143.151468</td>\n",
       "      <td>304.339874</td>\n",
       "      <td></td>\n",
       "      <td></td>\n",
       "      <td>46.0</td>\n",
       "      <td>45.643612</td>\n",
       "      <td>1369.0</td>\n",
       "      <td></td>\n",
       "      <td>1.2</td>\n",
       "      <td>6.0</td>\n",
       "      <td>1.7</td>\n",
       "      <td></td>\n",
       "      <td></td>\n",
       "      <td>7.218317</td>\n",
       "      <td>51.484903</td>\n",
       "      <td>2018-12-15T04:14:27Z</td>\n",
       "    </tr>\n",
       "    <tr>\n",
       "      <th>1</th>\n",
       "      <td>5c14981c44ea850302b12801</td>\n",
       "      <td></td>\n",
       "      <td>1.7</td>\n",
       "      <td>142.344093</td>\n",
       "      <td>305.963837</td>\n",
       "      <td></td>\n",
       "      <td></td>\n",
       "      <td>46.0</td>\n",
       "      <td>45.915009</td>\n",
       "      <td></td>\n",
       "      <td></td>\n",
       "      <td>1.4</td>\n",
       "      <td>8.0</td>\n",
       "      <td>2.2</td>\n",
       "      <td>42.0</td>\n",
       "      <td></td>\n",
       "      <td>7.217720</td>\n",
       "      <td>51.485168</td>\n",
       "      <td>2018-12-15T04:14:31Z</td>\n",
       "    </tr>\n",
       "    <tr>\n",
       "      <th>2</th>\n",
       "      <td>5c14981c44ea850302b12802</td>\n",
       "      <td>2.92003832880952</td>\n",
       "      <td>1.1</td>\n",
       "      <td>141.856606</td>\n",
       "      <td>306.094635</td>\n",
       "      <td>3.7799999713897705</td>\n",
       "      <td>1.2425695016210723</td>\n",
       "      <td>45.0</td>\n",
       "      <td>45.495461</td>\n",
       "      <td></td>\n",
       "      <td></td>\n",
       "      <td>1.2</td>\n",
       "      <td>4.0</td>\n",
       "      <td>1.7</td>\n",
       "      <td>43.0</td>\n",
       "      <td></td>\n",
       "      <td>7.217277</td>\n",
       "      <td>51.485371</td>\n",
       "      <td>2018-12-15T04:14:34Z</td>\n",
       "    </tr>\n",
       "    <tr>\n",
       "      <th>3</th>\n",
       "      <td>5c14981c44ea850302b12803</td>\n",
       "      <td></td>\n",
       "      <td>1.0</td>\n",
       "      <td>141.500532</td>\n",
       "      <td>320.720123</td>\n",
       "      <td></td>\n",
       "      <td></td>\n",
       "      <td>45.0</td>\n",
       "      <td>44.182362</td>\n",
       "      <td>1331.0</td>\n",
       "      <td></td>\n",
       "      <td>1.3</td>\n",
       "      <td>3.0</td>\n",
       "      <td>1.6</td>\n",
       "      <td></td>\n",
       "      <td></td>\n",
       "      <td>7.217005</td>\n",
       "      <td>51.485510</td>\n",
       "      <td>2018-12-15T04:14:36Z</td>\n",
       "    </tr>\n",
       "    <tr>\n",
       "      <th>4</th>\n",
       "      <td>5c14981c44ea850302b12804</td>\n",
       "      <td></td>\n",
       "      <td>1.3</td>\n",
       "      <td>140.547116</td>\n",
       "      <td>342.445129</td>\n",
       "      <td></td>\n",
       "      <td></td>\n",
       "      <td>45.0</td>\n",
       "      <td>45.063362</td>\n",
       "      <td></td>\n",
       "      <td></td>\n",
       "      <td>1.5</td>\n",
       "      <td>3.0</td>\n",
       "      <td>2.0</td>\n",
       "      <td>42.0</td>\n",
       "      <td></td>\n",
       "      <td>7.216808</td>\n",
       "      <td>51.485814</td>\n",
       "      <td>2018-12-15T04:14:39Z</td>\n",
       "    </tr>\n",
       "  </tbody>\n",
       "</table>\n",
       "</div>"
      ],
      "text/plain": [
       "                         id          CO2(kg/h)  GPS HDOP(precision)  \\\n",
       "0  5c14981c44ea850302b127ff                                     1.1   \n",
       "1  5c14981c44ea850302b12801                                     1.7   \n",
       "2  5c14981c44ea850302b12802   2.92003832880952                  1.1   \n",
       "3  5c14981c44ea850302b12803                                     1.0   \n",
       "4  5c14981c44ea850302b12804                                     1.3   \n",
       "\n",
       "    GPS Altitude(m)   GPS Bearing(deg)             MAF(l/s)  \\\n",
       "0        143.151468         304.339874                        \n",
       "1        142.344093         305.963837                        \n",
       "2        141.856606         306.094635   3.7799999713897705   \n",
       "3        141.500532         320.720123                        \n",
       "4        140.547116         342.445129                        \n",
       "\n",
       "      Consumption(l/h)   Speed(km/h)   GPS Speed(km/h)  Rpm(u/min)  \\\n",
       "0                               46.0         45.643612      1369.0   \n",
       "1                               46.0         45.915009               \n",
       "2   1.2425695016210723          45.0         45.495461               \n",
       "3                               45.0         44.182362      1331.0   \n",
       "4                               45.0         45.063362               \n",
       "\n",
       "   Throttle Position(%)  GPS VDOP(precision)   GPS Accuracy(%)  \\\n",
       "0                                        1.2               6.0   \n",
       "1                                        1.4               8.0   \n",
       "2                                        1.2               4.0   \n",
       "3                                        1.3               3.0   \n",
       "4                                        1.5               3.0   \n",
       "\n",
       "   GPS PDOP(precision)  Intake Temperature(c)  Engine Load(%)   longitude  \\\n",
       "0                  1.7                                           7.218317   \n",
       "1                  2.2                   42.0                    7.217720   \n",
       "2                  1.7                   43.0                    7.217277   \n",
       "3                  1.6                                           7.217005   \n",
       "4                  2.0                   42.0                    7.216808   \n",
       "\n",
       "    latitude                   time  \n",
       "0  51.484903   2018-12-15T04:14:27Z  \n",
       "1  51.485168   2018-12-15T04:14:31Z  \n",
       "2  51.485371   2018-12-15T04:14:34Z  \n",
       "3  51.485510   2018-12-15T04:14:36Z  \n",
       "4  51.485814   2018-12-15T04:14:39Z  "
      ]
     },
     "execution_count": 90,
     "metadata": {},
     "output_type": "execute_result"
    }
   ],
   "source": [
    "single_track.head()"
   ]
  },
  {
   "cell_type": "markdown",
   "metadata": {},
   "source": [
    "### Single Track"
   ]
  },
  {
   "cell_type": "code",
   "execution_count": 20,
   "metadata": {
    "scrolled": true
   },
   "outputs": [
    {
     "data": {
      "application/vnd.jupyter.widget-view+json": {
       "model_id": "2839dd1d8726413482149b5030b2d365",
       "version_major": 2,
       "version_minor": 0
      },
      "text/plain": [
       "Map(basemap={'url': 'https://{s}.tile.openstreetmap.org/{z}/{x}/{y}.png', 'max_zoom': 19, 'attribution': 'Map …"
      ]
     },
     "metadata": {},
     "output_type": "display_data"
    }
   ],
   "source": [
    "layer = basemap_to_tiles(basemaps.Stamen.Toner)\n",
    "m = Map(zoom=13, center=(single_track[' latitude'][0], single_track[' longitude'][0]))\n",
    "\n",
    "col = int(\"8a2be2\", 16)\n",
    "\n",
    "for i, j, k in zip(single_track[' longitude'][1:], single_track[' latitude'][1:], single_track[' GPS Speed(km/h)'][1:]):\n",
    "    circle = Circle()\n",
    "    circle.location = (j, i)\n",
    "    circle.radius = 2\n",
    "    circle.color = '#' + str(hex(int(float(col) + float(k) * 5.0)))[2:]\n",
    "    m.add_layer(circle)\n",
    "m"
   ]
  },
  {
   "cell_type": "markdown",
   "metadata": {},
   "source": [
    "### Multiple Tracks"
   ]
  },
  {
   "cell_type": "code",
   "execution_count": 19,
   "metadata": {},
   "outputs": [
    {
     "data": {
      "application/vnd.jupyter.widget-view+json": {
       "model_id": "7fcefc08b48141e58c17c7691184b1dc",
       "version_major": 2,
       "version_minor": 0
      },
      "text/plain": [
       "Map(basemap={'url': 'https://{s}.tile.openstreetmap.org/{z}/{x}/{y}.png', 'max_zoom': 19, 'attribution': 'Map …"
      ]
     },
     "metadata": {},
     "output_type": "display_data"
    }
   ],
   "source": [
    "layer = basemap_to_tiles(basemaps.Stamen.Toner)\n",
    "lat = data[' latitude'].tolist()\n",
    "lon = data[' longitude'].tolist()\n",
    "spe = data[' GPS Speed(km/h)'].tolist()\n",
    "\n",
    "m = Map(zoom=13, center=(lat[0], lon[0]))\n",
    "\n",
    "col = int(\"8a2be2\", 16)\n",
    "\n",
    "for i, j, k in zip(lat[1:], lon[1:], spe[1:]):\n",
    "    circle = Circle()\n",
    "    circle.location = (i, j)\n",
    "    circle.radius = 2\n",
    "    circle.color = '#' + str(hex(int(float(col) + float(k) * 5.0)))[2:]\n",
    "    m.add_layer(circle)\n",
    "m"
   ]
  },
  {
   "cell_type": "markdown",
   "metadata": {},
   "source": [
    "# Package Directory "
   ]
  },
  {
   "cell_type": "raw",
   "metadata": {},
   "source": [
    "enviro_car\n",
    "    |\n",
    "    |--Ecar\n",
    "    |     |\n",
    "    |     |--visual     \n",
    "    |     |    |\n",
    "    |     |    |--define_graph.py\n",
    "    |     |    |--plot_current.py\n",
    "    |     |    |--init.py\n",
    "    |     |    |...\n",
    "    |     |--services     \n",
    "    |     |    |\n",
    "    |     |    |--open.py\n",
    "    |     |    |--plot_current.py\n",
    "    |     |    |--init.py\n",
    "    |     |    |...             \n",
    "    |     |--endpoints\n",
    "    |     |    |\n",
    "    |     |    |--init.py\n",
    "    |     |    |--user.py\n",
    "    |     |    |--sensor.py\n",
    "    |     |    |--init.py\n",
    "    |     |    |--measurement.py\n",
    "    |     |    |--track.py\n",
    "    |     |    |...\n",
    "    |     |--tests\n",
    "    |     |   |\n",
    "    |     |   |--init.py\n",
    "    |     |   |--cumm_pllt_test.py\n",
    "    |     |   |--api_respose_colab.py\n",
    "    |     |   |--..\n",
    "    |     |   |\n",
    "    |     |--Licence\n",
    "    |     |--ReadMe.Md\n",
    "    |     |--setup.py"
   ]
  },
  {
   "cell_type": "markdown",
   "metadata": {},
   "source": [
    "## Further Ideas"
   ]
  },
  {
   "cell_type": "markdown",
   "metadata": {},
   "source": [
    "### Analyzing Emmision rate of a car"
   ]
  },
  {
   "cell_type": "markdown",
   "metadata": {},
   "source": [
    "From the track api we can deduce that that we don't get Co2 emmision of each and and every entry of a specific track, furthermore, the currently presented Co2 figures are in string format in place of float.\n",
    "\n",
    "If we see this as an interest of data visualising problem it can be problematic as we can find any relation of Co2 emmisions to any other sensor data.\n",
    "\n",
    "Hence, a work around can be filling out the values of each empty car track data with mean from the current available data in the api on the basis of identical tracks with similar factors like: car type/company, RPM, Average speed altitute etc."
   ]
  },
  {
   "cell_type": "markdown",
   "metadata": {},
   "source": [
    "### Car health check"
   ]
  },
  {
   "cell_type": "raw",
   "metadata": {},
   "source": [
    "Car health check (CHC) is about checking and regularing the car performance according to it's output in subsequent days.\n",
    "\n",
    "A data of each user's car will be monitored and in the end of the day a report will be generated or his/her car's output, and a subsequent graph with it's previous outputs will be given, the graphs resets at each service done, but comparisons from previous stats can be done, if the performance if degrading in a faster then before than it is a concern a notification will be given.\n",
    "\n",
    "further, extra maintainance advices will be given, the behalf of the data."
   ]
  },
  {
   "cell_type": "code",
   "execution_count": 22,
   "metadata": {},
   "outputs": [],
   "source": [
    "# Best regards :)"
   ]
  },
  {
   "cell_type": "code",
   "execution_count": null,
   "metadata": {},
   "outputs": [],
   "source": []
  }
 ],
 "metadata": {
  "kernelspec": {
   "display_name": "Python 3",
   "language": "python",
   "name": "python3"
  },
  "language_info": {
   "codemirror_mode": {
    "name": "ipython",
    "version": 3
   },
   "file_extension": ".py",
   "mimetype": "text/x-python",
   "name": "python",
   "nbconvert_exporter": "python",
   "pygments_lexer": "ipython3",
   "version": "3.6.7"
  }
 },
 "nbformat": 4,
 "nbformat_minor": 2
}
